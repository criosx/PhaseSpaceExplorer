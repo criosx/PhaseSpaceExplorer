{
 "cells": [
  {
   "cell_type": "code",
   "id": "initial_id",
   "metadata": {
    "collapsed": true,
    "ExecuteTime": {
     "end_time": "2025-04-23T15:30:25.226097Z",
     "start_time": "2025-04-23T15:30:12.155733Z"
    }
   },
   "source": [
    "import json\n",
    "from os import path\n",
    "import pandas as pd\n",
    "import pickle\n",
    "from support import gp\n"
   ],
   "outputs": [],
   "execution_count": 18
  },
  {
   "metadata": {
    "ExecuteTime": {
     "end_time": "2025-04-23T15:30:25.231855Z",
     "start_time": "2025-04-23T15:30:25.228560Z"
    }
   },
   "cell_type": "code",
   "source": "# df = pd.read_json(\"results.json\")",
   "id": "646c0fab8f1b2225",
   "outputs": [],
   "execution_count": 19
  },
  {
   "metadata": {},
   "cell_type": "markdown",
   "source": "## Load Data and recreate PSE Object",
   "id": "1f070d52ba558e1d"
  },
  {
   "metadata": {
    "ExecuteTime": {
     "end_time": "2025-04-23T15:30:59.515586Z",
     "start_time": "2025-04-23T15:30:59.512053Z"
    }
   },
   "cell_type": "code",
   "source": "spath = 'phase_space'",
   "id": "8aa8c623abccbc40",
   "outputs": [],
   "execution_count": 20
  },
  {
   "metadata": {
    "ExecuteTime": {
     "end_time": "2025-04-23T15:31:00.933529Z",
     "start_time": "2025-04-23T15:31:00.756224Z"
    }
   },
   "cell_type": "code",
   "source": [
    "with open(\"results.json\", \"r\") as f:\n",
    "    results_data = json.load(f)"
   ],
   "id": "ec5f3f0726ca7322",
   "outputs": [],
   "execution_count": 21
  },
  {
   "metadata": {
    "ExecuteTime": {
     "end_time": "2025-04-23T15:32:26.584061Z",
     "start_time": "2025-04-23T15:32:26.569293Z"
    }
   },
   "cell_type": "code",
   "source": [
    "with open(path.join(spath, 'pse_parameters.pkl'), 'rb') as file:\n",
    "    pse_pars = pickle.load(file)\n",
    "\n",
    "pse_pars = pd.DataFrame(pse_pars)\n",
    "pse_pars"
   ],
   "id": "99b4d0c004ca6b60",
   "outputs": [
    {
     "data": {
      "text/plain": [
       "   name      type  value  lower_opt  upper_opt  optimize  step_opt\n",
       "0  DOPC  compound    1.0        0.0        1.0      True      0.01\n",
       "1  DOPE  compound    1.0        0.0        1.0      True      0.01\n",
       "2  POPG  compound    1.0        0.0        1.0      True      0.01"
      ],
      "text/html": [
       "<div>\n",
       "<style scoped>\n",
       "    .dataframe tbody tr th:only-of-type {\n",
       "        vertical-align: middle;\n",
       "    }\n",
       "\n",
       "    .dataframe tbody tr th {\n",
       "        vertical-align: top;\n",
       "    }\n",
       "\n",
       "    .dataframe thead th {\n",
       "        text-align: right;\n",
       "    }\n",
       "</style>\n",
       "<table border=\"1\" class=\"dataframe\">\n",
       "  <thead>\n",
       "    <tr style=\"text-align: right;\">\n",
       "      <th></th>\n",
       "      <th>name</th>\n",
       "      <th>type</th>\n",
       "      <th>value</th>\n",
       "      <th>lower_opt</th>\n",
       "      <th>upper_opt</th>\n",
       "      <th>optimize</th>\n",
       "      <th>step_opt</th>\n",
       "    </tr>\n",
       "  </thead>\n",
       "  <tbody>\n",
       "    <tr>\n",
       "      <th>0</th>\n",
       "      <td>DOPC</td>\n",
       "      <td>compound</td>\n",
       "      <td>1.0</td>\n",
       "      <td>0.0</td>\n",
       "      <td>1.0</td>\n",
       "      <td>True</td>\n",
       "      <td>0.01</td>\n",
       "    </tr>\n",
       "    <tr>\n",
       "      <th>1</th>\n",
       "      <td>DOPE</td>\n",
       "      <td>compound</td>\n",
       "      <td>1.0</td>\n",
       "      <td>0.0</td>\n",
       "      <td>1.0</td>\n",
       "      <td>True</td>\n",
       "      <td>0.01</td>\n",
       "    </tr>\n",
       "    <tr>\n",
       "      <th>2</th>\n",
       "      <td>POPG</td>\n",
       "      <td>compound</td>\n",
       "      <td>1.0</td>\n",
       "      <td>0.0</td>\n",
       "      <td>1.0</td>\n",
       "      <td>True</td>\n",
       "      <td>0.01</td>\n",
       "    </tr>\n",
       "  </tbody>\n",
       "</table>\n",
       "</div>"
      ]
     },
     "execution_count": 24,
     "metadata": {},
     "output_type": "execute_result"
    }
   ],
   "execution_count": 24
  },
  {
   "metadata": {
    "ExecuteTime": {
     "end_time": "2025-04-23T15:32:29.772022Z",
     "start_time": "2025-04-23T15:32:29.762095Z"
    }
   },
   "cell_type": "code",
   "source": "gpo = gp.Gp(exp_par=pse_pars, storage_path=spath, resume=True)",
   "id": "e893f52efd75651f",
   "outputs": [],
   "execution_count": 25
  },
  {
   "metadata": {},
   "cell_type": "markdown",
   "source": "## Regenerate Prediction GP prediction",
   "id": "7f059e06545cc568"
  },
  {
   "metadata": {},
   "cell_type": "code",
   "outputs": [],
   "execution_count": null,
   "source": "",
   "id": "d4ea13d246f35788"
  }
 ],
 "metadata": {
  "kernelspec": {
   "display_name": "Python 3",
   "language": "python",
   "name": "python3"
  },
  "language_info": {
   "codemirror_mode": {
    "name": "ipython",
    "version": 2
   },
   "file_extension": ".py",
   "mimetype": "text/x-python",
   "name": "python",
   "nbconvert_exporter": "python",
   "pygments_lexer": "ipython2",
   "version": "2.7.6"
  }
 },
 "nbformat": 4,
 "nbformat_minor": 5
}
