{
 "cells": [
  {
   "metadata": {},
   "cell_type": "markdown",
   "source": "# Post-Experimental Data Visualization",
   "id": "ee340b93da53071c"
  },
  {
   "cell_type": "code",
   "id": "initial_id",
   "metadata": {
    "collapsed": true,
    "ExecuteTime": {
     "end_time": "2025-04-23T15:59:57.671714Z",
     "start_time": "2025-04-23T15:59:54.582472Z"
    }
   },
   "source": [
    "import json\n",
    "from os import path\n",
    "import pandas as pd\n",
    "import pickle\n",
    "from support import gp\n"
   ],
   "outputs": [],
   "execution_count": 1
  },
  {
   "metadata": {
    "ExecuteTime": {
     "end_time": "2025-04-23T15:59:57.676652Z",
     "start_time": "2025-04-23T15:59:57.673712Z"
    }
   },
   "cell_type": "code",
   "source": "# df = pd.read_json(\"results.json\")",
   "id": "646c0fab8f1b2225",
   "outputs": [],
   "execution_count": 2
  },
  {
   "metadata": {},
   "cell_type": "markdown",
   "source": "## Load Data and recreate PSE Object",
   "id": "1f070d52ba558e1d"
  },
  {
   "metadata": {
    "ExecuteTime": {
     "end_time": "2025-04-23T15:59:57.681346Z",
     "start_time": "2025-04-23T15:59:57.678136Z"
    }
   },
   "cell_type": "code",
   "source": "spath = 'phase_space'",
   "id": "8aa8c623abccbc40",
   "outputs": [],
   "execution_count": 3
  },
  {
   "metadata": {
    "ExecuteTime": {
     "end_time": "2025-04-23T15:59:57.867749Z",
     "start_time": "2025-04-23T15:59:57.684067Z"
    }
   },
   "cell_type": "code",
   "source": [
    "with open(\"results.json\", \"r\") as f:\n",
    "    results_data = json.load(f)"
   ],
   "id": "ec5f3f0726ca7322",
   "outputs": [],
   "execution_count": 4
  },
  {
   "metadata": {
    "ExecuteTime": {
     "end_time": "2025-04-23T15:59:57.886364Z",
     "start_time": "2025-04-23T15:59:57.869014Z"
    }
   },
   "cell_type": "code",
   "source": [
    "with open(path.join(spath, 'pse_parameters.pkl'), 'rb') as file:\n",
    "    pse_pars = pickle.load(file)\n",
    "\n",
    "pse_pars = pd.DataFrame(pse_pars)\n",
    "pse_pars"
   ],
   "id": "99b4d0c004ca6b60",
   "outputs": [
    {
     "data": {
      "text/plain": [
       "   name      type  value  lower_opt  upper_opt  optimize  step_opt\n",
       "0  DOPC  compound    1.0        0.0        1.0      True      0.01\n",
       "1  DOPE  compound    1.0        0.0        1.0      True      0.01\n",
       "2  POPG  compound    1.0        0.0        1.0      True      0.01"
      ],
      "text/html": [
       "<div>\n",
       "<style scoped>\n",
       "    .dataframe tbody tr th:only-of-type {\n",
       "        vertical-align: middle;\n",
       "    }\n",
       "\n",
       "    .dataframe tbody tr th {\n",
       "        vertical-align: top;\n",
       "    }\n",
       "\n",
       "    .dataframe thead th {\n",
       "        text-align: right;\n",
       "    }\n",
       "</style>\n",
       "<table border=\"1\" class=\"dataframe\">\n",
       "  <thead>\n",
       "    <tr style=\"text-align: right;\">\n",
       "      <th></th>\n",
       "      <th>name</th>\n",
       "      <th>type</th>\n",
       "      <th>value</th>\n",
       "      <th>lower_opt</th>\n",
       "      <th>upper_opt</th>\n",
       "      <th>optimize</th>\n",
       "      <th>step_opt</th>\n",
       "    </tr>\n",
       "  </thead>\n",
       "  <tbody>\n",
       "    <tr>\n",
       "      <th>0</th>\n",
       "      <td>DOPC</td>\n",
       "      <td>compound</td>\n",
       "      <td>1.0</td>\n",
       "      <td>0.0</td>\n",
       "      <td>1.0</td>\n",
       "      <td>True</td>\n",
       "      <td>0.01</td>\n",
       "    </tr>\n",
       "    <tr>\n",
       "      <th>1</th>\n",
       "      <td>DOPE</td>\n",
       "      <td>compound</td>\n",
       "      <td>1.0</td>\n",
       "      <td>0.0</td>\n",
       "      <td>1.0</td>\n",
       "      <td>True</td>\n",
       "      <td>0.01</td>\n",
       "    </tr>\n",
       "    <tr>\n",
       "      <th>2</th>\n",
       "      <td>POPG</td>\n",
       "      <td>compound</td>\n",
       "      <td>1.0</td>\n",
       "      <td>0.0</td>\n",
       "      <td>1.0</td>\n",
       "      <td>True</td>\n",
       "      <td>0.01</td>\n",
       "    </tr>\n",
       "  </tbody>\n",
       "</table>\n",
       "</div>"
      ]
     },
     "execution_count": 5,
     "metadata": {},
     "output_type": "execute_result"
    }
   ],
   "execution_count": 5
  },
  {
   "metadata": {
    "ExecuteTime": {
     "end_time": "2025-04-23T15:59:57.891717Z",
     "start_time": "2025-04-23T15:59:57.888881Z"
    }
   },
   "cell_type": "code",
   "source": "",
   "id": "e893f52efd75651f",
   "outputs": [],
   "execution_count": 5
  },
  {
   "metadata": {},
   "cell_type": "markdown",
   "source": "## Regenerate Prediction GP prediction",
   "id": "7f059e06545cc568"
  },
  {
   "metadata": {
    "ExecuteTime": {
     "end_time": "2025-04-23T16:00:00.926780Z",
     "start_time": "2025-04-23T15:59:57.893943Z"
    }
   },
   "cell_type": "code",
   "source": [
    "gpo = gp.Gp(exp_par=pse_pars, storage_path=spath, resume=True)\n",
    "gpo.gpcam_init_ae()\n",
    "gpo.gpcam_train()\n",
    "gpo.gpcam_prediction()"
   ],
   "id": "d4ea13d246f35788",
   "outputs": [
    {
     "name": "stdout",
     "output_type": "stream",
     "text": [
      "length of the dataset:  32\n"
     ]
    },
    {
     "name": "stderr",
     "output_type": "stream",
     "text": [
      "/Users/frank/opt/anaconda3/envs/phasespace/lib/python3.12/site-packages/fvgp/gp_training.py:234: RuntimeWarning: Method L-BFGS-B does not use Hessian information (hess).\n",
      "  OptimumEvaluation = minimize(\n"
     ]
    }
   ],
   "execution_count": 6
  },
  {
   "metadata": {
    "ExecuteTime": {
     "end_time": "2025-04-23T16:00:00.932137Z",
     "start_time": "2025-04-23T16:00:00.928552Z"
    }
   },
   "cell_type": "code",
   "source": "",
   "id": "18c68543d2fd6493",
   "outputs": [],
   "execution_count": 6
  }
 ],
 "metadata": {
  "kernelspec": {
   "display_name": "Python 3",
   "language": "python",
   "name": "python3"
  },
  "language_info": {
   "codemirror_mode": {
    "name": "ipython",
    "version": 2
   },
   "file_extension": ".py",
   "mimetype": "text/x-python",
   "name": "python",
   "nbconvert_exporter": "python",
   "pygments_lexer": "ipython2",
   "version": "2.7.6"
  }
 },
 "nbformat": 4,
 "nbformat_minor": 5
}
